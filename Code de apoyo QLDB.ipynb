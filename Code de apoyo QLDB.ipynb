{
 "cells": [
  {
   "cell_type": "markdown",
   "metadata": {},
   "source": [
    "### Paso 1"
   ]
  },
  {
   "cell_type": "code",
   "execution_count": null,
   "metadata": {},
   "outputs": [],
   "source": [
    "create table RegistroCultivo\n",
    "create table Cultivo\n",
    "create table Agricultor\n",
    "create table Certificacion"
   ]
  },
  {
   "cell_type": "markdown",
   "metadata": {},
   "source": [
    "### Paso 2"
   ]
  },
  {
   "cell_type": "code",
   "execution_count": null,
   "metadata": {},
   "outputs": [],
   "source": [
    "INSERT INTO Certificacion\n",
    "<< {\n",
    "\t'NumeroLicencia' : 'ABC001',\n",
    "\t'TipoLicencia' : 'Tipo A',\n",
    "    'FechaValidaInicio' : `2017-12-16T`,\n",
    "    'FechaValidaFin' : `2018-12-16T`\n",
    "},\n",
    "{\n",
    "   \t'NumeroLicencia' : 'ABC002',\n",
    "\t'TipoLicencia' : 'Tipo B',\n",
    "    'FechaValidaInicio' : `2018-12-25T`,\n",
    "    'FechaValidaFin' : `2020-12-25T`\n",
    "},\n",
    "{\n",
    "   \t'NumeroLicencia' : 'ABC003',\n",
    "\t'TipoLicencia' : 'Tipo C',\n",
    "    'FechaValidaInicio' : `2020-05-15T`,\n",
    "    'FechaValidaFin' : `2023-05-15T`\n",
    "}\n",
    ">>"
   ]
  },
  {
   "cell_type": "code",
   "execution_count": null,
   "metadata": {},
   "outputs": [],
   "source": [
    "INSERT INTO Agricultor\n",
    "<<{\n",
    "    'Nombre' : 'Efrain',\n",
    "    'Apellido' : 'Lopez',\n",
    "    'FechaNacimiento' : `1987-08-19T`,\n",
    "    'Domicilio' : 'C. 5 de Mayo 325, Centro, 47400 Lagos de Moreno, Jalisco',\n",
    "    'Telefono' : 4731254875\n",
    "},\n",
    "{\n",
    "    'Nombre' : 'Juan',\n",
    "    'Apellido' : 'Perez',\n",
    "    'FechaNacimiento' : `1975-10-05T`,\n",
    "    'Domicilio' : 'Lázaro Cárdenas 316, Zona Centro, 38240 Juventino Rosas, Guanajuato',\n",
    "    'Telefono' : 4775842142\n",
    "},\n",
    "{\n",
    "    'Nombre' : 'Jose',\n",
    "    'Apellido' : 'Martinez',\n",
    "    'FechaNacimiento' : `1992-06-25T`,\n",
    "    'Domicilio' : 'Francisco I. Madero #26, Rivera del Rio, 36442 San Francisco del Rincón, Guanajuato',\n",
    "    'Telefono' : 4617842523\n",
    "}\n",
    ">>"
   ]
  },
  {
   "cell_type": "code",
   "execution_count": null,
   "metadata": {},
   "outputs": [],
   "source": [
    "INSERT INTO Cultivo\n",
    "<<{\n",
    "    'CultivoId': 'G-01',\n",
    "    'Tipo' : 'Agave',\n",
    "    'FechaSiembra' : `2021-08-19T`,\n",
    "    'Estado' : 'Activo',\n",
    "    'ArchivoKML' : 'https://drive.google.com/file/d/1-xt8JI5htdAsVZyx5dUbZ8aQNT5yyARs/view?usp=share_link'\n",
    "},\n",
    "{\n",
    "    'CultivoId': 'G-02',\n",
    "    'Tipo' : 'Aguacate',\n",
    "    'FechaSiembra' : `2018-10-21T`,\n",
    "    'Estado' : 'Terminado',\n",
    "    'ArchivoKML' : 'https://drive.google.com/file/d/1-xt8JI5htdAsVZyx5dUbZ8aQNT5yyARs/view?usp=share_link'    \n",
    "},\n",
    "{\n",
    "    'CultivoId': 'G-03',\n",
    "    'Tipo' : 'Brocoli',\n",
    "    'FechaSiembra' : `2022-04-05T`,\n",
    "    'Estado' : 'Activo',\n",
    "    'ArchivoKML' : 'https://drive.google.com/file/d/1-xt8JI5htdAsVZyx5dUbZ8aQNT5yyARs/view?usp=share_link'    \n",
    "}\n",
    ">>"
   ]
  },
  {
   "cell_type": "code",
   "execution_count": null,
   "metadata": {},
   "outputs": [],
   "source": [
    "INSERT INTO RegistroCultivo\n",
    "<<{\n",
    "    'CultivoId' : 'G-01',\n",
    "    'NumeroLicencia' : 'ABC001',\n",
    "    'Estado' : 'Jalisco',\n",
    "    'Ciudad' : 'Lagos de Moreno',\n",
    "'CostoPendiente' : 90.25,\n",
    "    'Agricultores' : {\n",
    "        'AgricultorPrimario' : {'AgricultorId': ''},\n",
    "        'AgricultorSecundario' : []\n",
    "    }\n",
    "},\n",
    "{\n",
    "    'CultivoId' : 'G-02',\n",
    "    'NumeroLicencia' : 'ABC002',\n",
    "    'Estado' : 'Guanajuato',\n",
    "    'Ciudad' : 'Juventino Rosas',\n",
    "'CostoPendiente' : 90.25,\n",
    "    'Agricultores' : {\n",
    "        'AgricultorPrimario' : {'AgricultorId': ''},\n",
    "        'AgricultorSecundario' : []\n",
    "    }\n",
    "},\n",
    "{\n",
    "    'CultivoId' : 'G-03',\n",
    "    'NumeroLicencia' : 'ABC003',\n",
    "    'Estado' : 'Guanajuato',\n",
    "    'Ciudad' : 'San Francisco del Rincon',\n",
    "    'CostoPendiente' : 90.25,\n",
    "    'Agricultores' : {\n",
    "        'AgricultorPrimario' : {'AgricultorId': ''},\n",
    "        'AgricultorSecundario' : []\n",
    "    }\n",
    "}\n",
    ">>"
   ]
  },
  {
   "cell_type": "markdown",
   "metadata": {},
   "source": [
    "### PASO 3"
   ]
  },
  {
   "cell_type": "code",
   "execution_count": null,
   "metadata": {},
   "outputs": [],
   "source": [
    "SELECT * FROM RegistroCultivo AS r, Cultivo AS c\n",
    "WHERE r.CultivoId = c.CultivoId"
   ]
  },
  {
   "cell_type": "markdown",
   "metadata": {},
   "source": [
    "### PASO 4\n",
    "Obteniendo ID de Agricultor y haciendo UPDATE"
   ]
  },
  {
   "cell_type": "code",
   "execution_count": null,
   "metadata": {},
   "outputs": [],
   "source": [
    "SELECT * FROM _ql_committed_Cliente AS q\n",
    "WHERE q.data.Nombre = 'Efrain'"
   ]
  },
  {
   "cell_type": "code",
   "execution_count": null,
   "metadata": {},
   "outputs": [],
   "source": [
    "UPDATE RegistroCultivo as r\n",
    "SET r.Agricultores.AgricultorPrimario.AgricultorId = \n",
    "WHERE r.CultivoId = 'G-01'"
   ]
  },
  {
   "cell_type": "markdown",
   "metadata": {},
   "source": [
    "### Paso 5"
   ]
  },
  {
   "cell_type": "code",
   "execution_count": null,
   "metadata": {},
   "outputs": [],
   "source": [
    "# Buscar otro Id\n",
    "SELECT metadata.id from _ql_committed_Person AS p\n",
    "WHERE p.data.FirstName = 'Raul'"
   ]
  },
  {
   "cell_type": "code",
   "execution_count": null,
   "metadata": {},
   "outputs": [],
   "source": [
    "FROM RegistroCultivo AS r\n",
    "WHERE r.CultivoId = 'G-01'\n",
    "INSERT INTO v.Agricultores.AgricultorSecundario\n",
    "VALUE {'AgricultorId' : ''}"
   ]
  },
  {
   "cell_type": "markdown",
   "metadata": {},
   "source": [
    "### Paso 6"
   ]
  },
  {
   "cell_type": "code",
   "execution_count": null,
   "metadata": {},
   "outputs": [],
   "source": [
    "select v.metadata.txTime, v.metadata.id from _ql_committed_RegistroCultivo as v\n",
    "where v.data.CultivoId='G-01'"
   ]
  },
  {
   "cell_type": "code",
   "execution_count": null,
   "metadata": {},
   "outputs": [],
   "source": [
    "select * from history (RegistroCultivo, `2000T`,`2022-11-25T17:51:58.935Z`)\n",
    "WHERE h.metadata.id = ''"
   ]
  },
  {
   "cell_type": "markdown",
   "metadata": {},
   "source": [
    "### Paso 7"
   ]
  },
  {
   "cell_type": "markdown",
   "metadata": {},
   "source": []
  }
 ],
 "metadata": {
  "language_info": {
   "name": "python"
  },
  "orig_nbformat": 4
 },
 "nbformat": 4,
 "nbformat_minor": 2
}
